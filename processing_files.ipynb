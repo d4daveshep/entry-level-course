{
 "cells": [
  {
   "cell_type": "markdown",
   "id": "321adb90",
   "metadata": {},
   "source": [
    "# module 4.3 - processing text and binary files"
   ]
  },
  {
   "cell_type": "markdown",
   "id": "53815a8b",
   "metadata": {},
   "source": [
    "## text files"
   ]
  },
  {
   "cell_type": "markdown",
   "id": "e9710575",
   "metadata": {},
   "source": [
    "Read the whole file in one go"
   ]
  },
  {
   "cell_type": "code",
   "execution_count": 4,
   "id": "3115dc44",
   "metadata": {},
   "outputs": [
    {
     "name": "stdout",
     "output_type": "stream",
     "text": [
      "The Zen of Python, by Tim Peters\n",
      "\n",
      "Beautiful is better than ugly.\n",
      "Explicit is better than implicit.\n",
      "Simple is better than complex.\n",
      "Complex is better than complicated.\n",
      "Flat is better than nested.\n",
      "Sparse is better than dense.\n",
      "Readability counts.\n",
      "Special cases aren't special enough to break the rules.\n",
      "Although practicality beats purity.\n",
      "Errors should never pass silently.\n",
      "Unless explicitly silenced.\n",
      "In the face of ambiguity, refuse the temptation to guess.\n",
      "There should be one-- and preferably only one --obvious way to do it.\n",
      "Although that way may not be obvious at first unless you're Dutch.\n",
      "Now is better than never.\n",
      "Although never is often better than *right* now.\n",
      "If the implementation is hard to explain, it's a bad idea.\n",
      "If the implementation is easy to explain, it may be a good idea.\n",
      "Namespaces are one honking great idea -- let's do more of those!\n"
     ]
    }
   ],
   "source": [
    "stream = open(\"tzop.txt\", \"rt\", encoding=\"utf-8\")\n",
    "print(stream.read())"
   ]
  },
  {
   "cell_type": "code",
   "execution_count": 5,
   "id": "d145dd84",
   "metadata": {},
   "outputs": [
    {
     "data": {
      "text/plain": [
       "_io.TextIOWrapper"
      ]
     },
     "execution_count": 5,
     "metadata": {},
     "output_type": "execute_result"
    }
   ],
   "source": [
    "type(stream)"
   ]
  },
  {
   "cell_type": "markdown",
   "id": "b7d73093",
   "metadata": {},
   "source": [
    "Read it all in one go but print it one character at a time"
   ]
  },
  {
   "cell_type": "code",
   "execution_count": 8,
   "id": "0ceab5f3",
   "metadata": {},
   "outputs": [
    {
     "name": "stdout",
     "output_type": "stream",
     "text": [
      "The Zen of Python, by Tim Peters\n",
      "\n",
      "Beautiful is better than ugly.\n",
      "Explicit is better than implicit.\n",
      "Simple is better than complex.\n",
      "Complex is better than complicated.\n",
      "Flat is better than nested.\n",
      "Sparse is better than dense.\n",
      "Readability counts.\n",
      "Special cases aren't special enough to break the rules.\n",
      "Although practicality beats purity.\n",
      "Errors should never pass silently.\n",
      "Unless explicitly silenced.\n",
      "In the face of ambiguity, refuse the temptation to guess.\n",
      "There should be one-- and preferably only one --obvious way to do it.\n",
      "Although that way may not be obvious at first unless you're Dutch.\n",
      "Now is better than never.\n",
      "Although never is often better than *right* now.\n",
      "If the implementation is hard to explain, it's a bad idea.\n",
      "If the implementation is easy to explain, it may be a good idea.\n",
      "Namespaces are one honking great idea -- let's do more of those!\n",
      "\n",
      "Characters in file: 856\n"
     ]
    }
   ],
   "source": [
    "from os import strerror\n",
    "\n",
    "try:\n",
    "    cnt = 0\n",
    "    s = open('tzop.txt', \"rt\")\n",
    "    content = s.read()\n",
    "    for ch in content:\n",
    "        print(ch, end='')\n",
    "        cnt += 1\n",
    "    s.close()\n",
    "    print(\"\\n\\nCharacters in file:\", cnt)\n",
    "except IOError as e:\n",
    "    print(\"I/O error occurred: \", strerror(e.errno))"
   ]
  },
  {
   "cell_type": "markdown",
   "id": "abc4650b",
   "metadata": {},
   "source": [
    "Open() returns an iterable object we can use in a for loop"
   ]
  },
  {
   "cell_type": "code",
   "execution_count": 13,
   "id": "5cc20589",
   "metadata": {},
   "outputs": [
    {
     "name": "stdout",
     "output_type": "stream",
     "text": [
      "The Zen of Python, by Tim Peters\n",
      "\n",
      "Beautiful is better than ugly.\n",
      "Explicit is better than implicit.\n",
      "Simple is better than complex.\n",
      "Complex is better than complicated.\n",
      "Flat is better than nested.\n",
      "Sparse is better than dense.\n",
      "Readability counts.\n",
      "Special cases aren't special enough to break the rules.\n",
      "Although practicality beats purity.\n",
      "Errors should never pass silently.\n",
      "Unless explicitly silenced.\n",
      "In the face of ambiguity, refuse the temptation to guess.\n",
      "There should be one-- and preferably only one --obvious way to do it.\n",
      "Although that way may not be obvious at first unless you're Dutch.\n",
      "Now is better than never.\n",
      "Although never is often better than *right* now.\n",
      "If the implementation is hard to explain, it's a bad idea.\n",
      "If the implementation is easy to explain, it may be a good idea.\n",
      "Namespaces are one honking great idea -- let's do more of those!\n",
      "\n",
      "Characters in file: 856\n",
      "LInes in file: 21\n"
     ]
    }
   ],
   "source": [
    "try:\n",
    "    ccnt = lcnt = 0\n",
    "    for line in open(\"tzop.txt\", \"rt\"):\n",
    "        lcnt += 1\n",
    "        for ch in line:\n",
    "            print(ch, end=\"\")\n",
    "            ccnt += 1\n",
    "    print(\"\\n\\nCharacters in file:\", ccnt)\n",
    "    print(\"LInes in file:\", lcnt)\n",
    "except IOError as e:\n",
    "    print(\"I/O error occurred: \", strerror(e.errno))"
   ]
  },
  {
   "cell_type": "markdown",
   "id": "fddc2b30",
   "metadata": {},
   "source": [
    "Writing a simple text file one character at a time"
   ]
  },
  {
   "cell_type": "code",
   "execution_count": 14,
   "id": "f6038d3c",
   "metadata": {},
   "outputs": [],
   "source": [
    "try:\n",
    "    fo = open(\"newfile.txt\", \"wt\")\n",
    "    for i in range(10):\n",
    "        s = \"line #\" + str(i+1) + \"\\n\"\n",
    "        for ch in s:\n",
    "            fo.write(ch)\n",
    "    fo.close()\n",
    "except IOError as e:\n",
    "    print(\"I/O error occurred: \", strerror(e.errno))"
   ]
  },
  {
   "cell_type": "code",
   "execution_count": 16,
   "id": "3cfa19e5",
   "metadata": {},
   "outputs": [
    {
     "name": "stdout",
     "output_type": "stream",
     "text": [
      "line #1\n",
      "line #2\n",
      "line #3\n",
      "line #4\n",
      "line #5\n",
      "line #6\n",
      "line #7\n",
      "line #8\n",
      "line #9\n",
      "line #10\n",
      "\n"
     ]
    }
   ],
   "source": [
    "print(open(\"newfile.txt\", \"rt\").read())"
   ]
  },
  {
   "cell_type": "markdown",
   "id": "43d7106b",
   "metadata": {},
   "source": [
    "Write a line at a time"
   ]
  },
  {
   "cell_type": "code",
   "execution_count": 17,
   "id": "bfc20a14",
   "metadata": {},
   "outputs": [],
   "source": [
    "try:\n",
    "    fo = open(\"newfile.txt\", \"wt\")\n",
    "    for i in range(10):\n",
    "        fo.write(\"line #\" + str(i+1) + \"\\n\")\n",
    "    fo.close()\n",
    "except IOError as e:\n",
    "    print(\"I/O error occurred: \", strerror(e.errno))"
   ]
  },
  {
   "cell_type": "code",
   "execution_count": 19,
   "id": "9bacaa67",
   "metadata": {},
   "outputs": [
    {
     "name": "stdout",
     "output_type": "stream",
     "text": [
      "line #1\n",
      "line #2\n",
      "line #3\n",
      "line #4\n",
      "line #5\n",
      "line #6\n",
      "line #7\n",
      "line #8\n",
      "line #9\n",
      "line #10\n",
      "\n"
     ]
    }
   ],
   "source": [
    "print(open(\"newfile.txt\", \"rt\").read())"
   ]
  },
  {
   "cell_type": "markdown",
   "id": "e2790739",
   "metadata": {},
   "source": [
    "## binary files"
   ]
  },
  {
   "cell_type": "code",
   "execution_count": 20,
   "id": "adf0c70b",
   "metadata": {},
   "outputs": [],
   "source": [
    "data = bytearray(10)"
   ]
  },
  {
   "cell_type": "code",
   "execution_count": 22,
   "id": "a0883b31",
   "metadata": {},
   "outputs": [
    {
     "data": {
      "text/plain": [
       "bytearray"
      ]
     },
     "execution_count": 22,
     "metadata": {},
     "output_type": "execute_result"
    }
   ],
   "source": [
    "type(data)"
   ]
  },
  {
   "cell_type": "code",
   "execution_count": 21,
   "id": "afc9ed2f",
   "metadata": {},
   "outputs": [
    {
     "data": {
      "text/plain": [
       "bytearray(b'\\x00\\x00\\x00\\x00\\x00\\x00\\x00\\x00\\x00\\x00')"
      ]
     },
     "execution_count": 21,
     "metadata": {},
     "output_type": "execute_result"
    }
   ],
   "source": [
    "data\n"
   ]
  },
  {
   "cell_type": "code",
   "execution_count": 23,
   "id": "49d5d1f7",
   "metadata": {},
   "outputs": [],
   "source": [
    "for i in range(len(data)):\n",
    "    data[i] = 10-i"
   ]
  },
  {
   "cell_type": "code",
   "execution_count": 24,
   "id": "412d1399",
   "metadata": {},
   "outputs": [
    {
     "data": {
      "text/plain": [
       "bytearray(b'\\n\\t\\x08\\x07\\x06\\x05\\x04\\x03\\x02\\x01')"
      ]
     },
     "execution_count": 24,
     "metadata": {},
     "output_type": "execute_result"
    }
   ],
   "source": [
    "data"
   ]
  },
  {
   "cell_type": "code",
   "execution_count": 27,
   "id": "169291ae",
   "metadata": {},
   "outputs": [
    {
     "name": "stdout",
     "output_type": "stream",
     "text": [
      "0xa, 0x9, 0x8, 0x7, 0x6, 0x5, 0x4, 0x3, 0x2, 0x1, "
     ]
    }
   ],
   "source": [
    "for b in data:\n",
    "    print(hex(b), end=\", \")"
   ]
  },
  {
   "cell_type": "markdown",
   "id": "f4f36e35",
   "metadata": {},
   "source": [
    "Writing a bytearray to a binary file"
   ]
  },
  {
   "cell_type": "code",
   "execution_count": 29,
   "id": "4deaac3e",
   "metadata": {},
   "outputs": [],
   "source": [
    "try:\n",
    "    bf = open(\"file.bin\", \"wb\")\n",
    "    bf.write(data)\n",
    "    bf.close()\n",
    "except IOError as e:\n",
    "    print(\"I/O error occorred:\", strerror(e.errno))"
   ]
  },
  {
   "cell_type": "markdown",
   "id": "243cf524",
   "metadata": {},
   "source": [
    "Reading the binary file back into a byte array"
   ]
  },
  {
   "cell_type": "code",
   "execution_count": 30,
   "id": "78b6488f",
   "metadata": {},
   "outputs": [
    {
     "name": "stdout",
     "output_type": "stream",
     "text": [
      "0xa, 0x9, 0x8, 0x7, 0x6, 0x5, 0x4, 0x3, 0x2, 0x1, "
     ]
    }
   ],
   "source": [
    "try:\n",
    "    bf = open('file.bin', 'rb')\n",
    "    bf.readinto(data)\n",
    "    bf.close()\n",
    "\n",
    "    for b in data:\n",
    "        print(hex(b), end=', ')\n",
    "except IOError as e:\n",
    "    print(\"I/O error occurred:\", strerror(e.errno))"
   ]
  },
  {
   "cell_type": "markdown",
   "id": "2da982c1",
   "metadata": {},
   "source": []
  }
 ],
 "metadata": {
  "kernelspec": {
   "display_name": "Python 3 (ipykernel)",
   "language": "python",
   "name": "python3"
  },
  "language_info": {
   "codemirror_mode": {
    "name": "ipython",
    "version": 3
   },
   "file_extension": ".py",
   "mimetype": "text/x-python",
   "name": "python",
   "nbconvert_exporter": "python",
   "pygments_lexer": "ipython3",
   "version": "3.9.2"
  }
 },
 "nbformat": 4,
 "nbformat_minor": 5
}
