{
 "cells": [
  {
   "cell_type": "code",
   "execution_count": 1,
   "id": "9d89d17f",
   "metadata": {},
   "outputs": [],
   "source": [
    "fo = open(\"student_data.txt\", \"rt\")"
   ]
  },
  {
   "cell_type": "code",
   "execution_count": 2,
   "id": "5c2d0534",
   "metadata": {},
   "outputs": [
    {
     "name": "stdout",
     "output_type": "stream",
     "text": [
      "John\tSmith\t5\n",
      "Anna\tBoleyn\t4.5\n",
      "John\tSmith\t2\n",
      "Anna\tBoleyn\t11\n",
      "Andrew\tCox\t1.5\n"
     ]
    }
   ],
   "source": [
    "print(fo.read())"
   ]
  },
  {
   "cell_type": "code",
   "execution_count": 3,
   "id": "61b56949",
   "metadata": {},
   "outputs": [
    {
     "name": "stdout",
     "output_type": "stream",
     "text": [
      "\n"
     ]
    }
   ],
   "source": [
    "print(fo.read())"
   ]
  },
  {
   "cell_type": "code",
   "execution_count": 7,
   "id": "8f87a77d",
   "metadata": {},
   "outputs": [],
   "source": [
    "data_file = open(\"student_data.txt\", \"rt\")\n",
    "line = data_file.readline().strip()"
   ]
  },
  {
   "cell_type": "code",
   "execution_count": 8,
   "id": "ea81a7c8",
   "metadata": {},
   "outputs": [
    {
     "data": {
      "text/plain": [
       "'John\\tSmith\\t5'"
      ]
     },
     "execution_count": 8,
     "metadata": {},
     "output_type": "execute_result"
    }
   ],
   "source": [
    "line"
   ]
  },
  {
   "cell_type": "code",
   "execution_count": 9,
   "id": "173e782b",
   "metadata": {},
   "outputs": [],
   "source": [
    "idx = 0\n",
    "for ch in line:\n",
    "    if not ch.isdigit():\n",
    "        idx += 1\n",
    "    else:\n",
    "        break\n"
   ]
  },
  {
   "cell_type": "code",
   "execution_count": 16,
   "id": "9dd3265e",
   "metadata": {},
   "outputs": [],
   "source": [
    "score = (float)(line[idx:])"
   ]
  },
  {
   "cell_type": "code",
   "execution_count": 17,
   "id": "05a3d65f",
   "metadata": {},
   "outputs": [
    {
     "data": {
      "text/plain": [
       "5.0"
      ]
     },
     "execution_count": 17,
     "metadata": {},
     "output_type": "execute_result"
    }
   ],
   "source": [
    "score"
   ]
  },
  {
   "cell_type": "code",
   "execution_count": 18,
   "id": "502c7d72",
   "metadata": {},
   "outputs": [],
   "source": [
    "name = line[:idx]"
   ]
  },
  {
   "cell_type": "code",
   "execution_count": 20,
   "id": "70ee0cac",
   "metadata": {},
   "outputs": [],
   "source": [
    "name = name.strip()"
   ]
  },
  {
   "cell_type": "code",
   "execution_count": 22,
   "id": "3103d7ee",
   "metadata": {},
   "outputs": [],
   "source": [
    "name = name.replace(\"\\t\", \" \")"
   ]
  },
  {
   "cell_type": "code",
   "execution_count": 23,
   "id": "22adfd41",
   "metadata": {},
   "outputs": [
    {
     "data": {
      "text/plain": [
       "'John Smith'"
      ]
     },
     "execution_count": 23,
     "metadata": {},
     "output_type": "execute_result"
    }
   ],
   "source": [
    "name"
   ]
  },
  {
   "cell_type": "code",
   "execution_count": null,
   "id": "2488a49d",
   "metadata": {},
   "outputs": [],
   "source": []
  }
 ],
 "metadata": {
  "kernelspec": {
   "display_name": "Python 3 (ipykernel)",
   "language": "python",
   "name": "python3"
  },
  "language_info": {
   "codemirror_mode": {
    "name": "ipython",
    "version": 3
   },
   "file_extension": ".py",
   "mimetype": "text/x-python",
   "name": "python",
   "nbconvert_exporter": "python",
   "pygments_lexer": "ipython3",
   "version": "3.9.2"
  }
 },
 "nbformat": 4,
 "nbformat_minor": 5
}
