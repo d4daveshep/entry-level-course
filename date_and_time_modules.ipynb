{
 "cells": [
  {
   "cell_type": "markdown",
   "id": "10e5b1a5",
   "metadata": {},
   "source": [
    "# datetime module - date class"
   ]
  },
  {
   "cell_type": "code",
   "execution_count": 3,
   "id": "4fd804a7",
   "metadata": {},
   "outputs": [],
   "source": [
    "from datetime import date"
   ]
  },
  {
   "cell_type": "code",
   "execution_count": 4,
   "id": "3ab8100a",
   "metadata": {},
   "outputs": [],
   "source": [
    "today = date.today()"
   ]
  },
  {
   "cell_type": "code",
   "execution_count": 6,
   "id": "9abd9aae",
   "metadata": {},
   "outputs": [
    {
     "name": "stdout",
     "output_type": "stream",
     "text": [
      "2022-07-09\n"
     ]
    }
   ],
   "source": [
    "print(today)"
   ]
  },
  {
   "cell_type": "markdown",
   "id": "2a1cabd1",
   "metadata": {},
   "source": [
    "# time module"
   ]
  },
  {
   "cell_type": "code",
   "execution_count": 7,
   "id": "32cc3269",
   "metadata": {},
   "outputs": [],
   "source": [
    "import time"
   ]
  },
  {
   "cell_type": "code",
   "execution_count": 8,
   "id": "a5d8fa81",
   "metadata": {},
   "outputs": [],
   "source": [
    "timestamp = time.time()"
   ]
  },
  {
   "cell_type": "markdown",
   "id": "22986627",
   "metadata": {},
   "source": [
    "number of seconds since Unix epoch"
   ]
  },
  {
   "cell_type": "code",
   "execution_count": 13,
   "id": "788d636a",
   "metadata": {},
   "outputs": [
    {
     "name": "stdout",
     "output_type": "stream",
     "text": [
      "1657338102.7326658\n"
     ]
    }
   ],
   "source": [
    "print(timestamp)"
   ]
  },
  {
   "cell_type": "code",
   "execution_count": 24,
   "id": "01595c81",
   "metadata": {},
   "outputs": [],
   "source": [
    "d1 = date.fromtimestamp(timestamp)"
   ]
  },
  {
   "cell_type": "code",
   "execution_count": 15,
   "id": "ca628e22",
   "metadata": {},
   "outputs": [
    {
     "name": "stdout",
     "output_type": "stream",
     "text": [
      "2022-07-09\n"
     ]
    }
   ],
   "source": [
    "print(d1)"
   ]
  },
  {
   "cell_type": "code",
   "execution_count": 16,
   "id": "48565763",
   "metadata": {},
   "outputs": [],
   "source": [
    "d2 = date.fromisoformat(\"1967-12-29\")"
   ]
  },
  {
   "cell_type": "code",
   "execution_count": 17,
   "id": "253bc0c9",
   "metadata": {},
   "outputs": [
    {
     "name": "stdout",
     "output_type": "stream",
     "text": [
      "1967-12-29\n"
     ]
    }
   ],
   "source": [
    "print(d2)"
   ]
  },
  {
   "cell_type": "code",
   "execution_count": 20,
   "id": "ab119f13",
   "metadata": {},
   "outputs": [],
   "source": [
    "d2 = d2.replace(month=11)"
   ]
  },
  {
   "cell_type": "code",
   "execution_count": 21,
   "id": "5868a704",
   "metadata": {},
   "outputs": [
    {
     "data": {
      "text/plain": [
       "datetime.date(1967, 11, 29)"
      ]
     },
     "execution_count": 21,
     "metadata": {},
     "output_type": "execute_result"
    }
   ],
   "source": [
    "d2"
   ]
  },
  {
   "cell_type": "code",
   "execution_count": 25,
   "id": "ff6404e1",
   "metadata": {},
   "outputs": [
    {
     "name": "stdout",
     "output_type": "stream",
     "text": [
      "5\n"
     ]
    }
   ],
   "source": [
    "print(d1.weekday())"
   ]
  },
  {
   "cell_type": "markdown",
   "id": "461daef4",
   "metadata": {},
   "source": [
    "weekday is zero-indexed starting from Monday=0"
   ]
  },
  {
   "cell_type": "code",
   "execution_count": 26,
   "id": "9ec725ea",
   "metadata": {},
   "outputs": [
    {
     "name": "stdout",
     "output_type": "stream",
     "text": [
      "6\n"
     ]
    }
   ],
   "source": [
    "print(d1.isoweekday())"
   ]
  },
  {
   "cell_type": "markdown",
   "id": "ef36b427",
   "metadata": {},
   "source": [
    "isoweekday is zero-indexed starting from Sunday=0"
   ]
  },
  {
   "cell_type": "markdown",
   "id": "d979cdc9",
   "metadata": {},
   "source": [
    "\n",
    "# datetime module - time class"
   ]
  },
  {
   "cell_type": "code",
   "execution_count": 28,
   "id": "b54516fe",
   "metadata": {},
   "outputs": [],
   "source": [
    "from datetime import time"
   ]
  },
  {
   "cell_type": "code",
   "execution_count": 29,
   "id": "f8ddb099",
   "metadata": {},
   "outputs": [],
   "source": [
    "t = time(15,50,27,12)"
   ]
  },
  {
   "cell_type": "code",
   "execution_count": 30,
   "id": "dcafd334",
   "metadata": {},
   "outputs": [
    {
     "name": "stdout",
     "output_type": "stream",
     "text": [
      "15:50:27.000012\n"
     ]
    }
   ],
   "source": [
    "print(t)"
   ]
  },
  {
   "cell_type": "markdown",
   "id": "3da377d0",
   "metadata": {},
   "source": [
    "# time module again"
   ]
  },
  {
   "cell_type": "code",
   "execution_count": 31,
   "id": "bd8a7b31",
   "metadata": {},
   "outputs": [],
   "source": [
    "import time"
   ]
  },
  {
   "cell_type": "code",
   "execution_count": 33,
   "id": "723f745c",
   "metadata": {},
   "outputs": [
    {
     "name": "stdout",
     "output_type": "stream",
     "text": [
      "before sleep...\n",
      "after sleep!\n"
     ]
    }
   ],
   "source": [
    "print(\"before sleep...\")\n",
    "time.sleep(5) # 5 seconds\n",
    "print(\"after sleep!\")"
   ]
  },
  {
   "cell_type": "code",
   "execution_count": 36,
   "id": "8732dc39",
   "metadata": {},
   "outputs": [
    {
     "name": "stdout",
     "output_type": "stream",
     "text": [
      "timestamp is: 1657339197.080382\n",
      "ctime is: Sat Jul  9 15:59:57 2022\n"
     ]
    }
   ],
   "source": [
    "t = time.time()\n",
    "print(f\"timestamp is: {t}\")\n",
    "print(\"ctime is:\",time.ctime(t))\n"
   ]
  },
  {
   "cell_type": "code",
   "execution_count": 37,
   "id": "cff32ed6",
   "metadata": {},
   "outputs": [
    {
     "name": "stdout",
     "output_type": "stream",
     "text": [
      "gmtime is: time.struct_time(tm_year=2022, tm_mon=7, tm_mday=9, tm_hour=3, tm_min=59, tm_sec=57, tm_wday=5, tm_yday=190, tm_isdst=0)\n",
      "localtime is: time.struct_time(tm_year=2022, tm_mon=7, tm_mday=9, tm_hour=15, tm_min=59, tm_sec=57, tm_wday=5, tm_yday=190, tm_isdst=0)\n"
     ]
    }
   ],
   "source": [
    "print(\"gmtime is:\",time.gmtime(t))\n",
    "print(\"localtime is:\",time.localtime(t))"
   ]
  },
  {
   "cell_type": "markdown",
   "id": "71f48341",
   "metadata": {},
   "source": [
    "the above is known as a 9-tuple"
   ]
  },
  {
   "cell_type": "code",
   "execution_count": 40,
   "id": "1f673337",
   "metadata": {},
   "outputs": [
    {
     "name": "stdout",
     "output_type": "stream",
     "text": [
      "asctime is: Sat Jul  9 03:59:57 2022\n"
     ]
    }
   ],
   "source": [
    "print(\"asctime is:\",time.asctime(time.gmtime(t)))"
   ]
  },
  {
   "cell_type": "code",
   "execution_count": 41,
   "id": "9a2f8c73",
   "metadata": {},
   "outputs": [
    {
     "data": {
      "text/plain": [
       "time.struct_time(tm_year=2022, tm_mon=7, tm_mday=9, tm_hour=3, tm_min=59, tm_sec=57, tm_wday=5, tm_yday=190, tm_isdst=0)"
      ]
     },
     "execution_count": 41,
     "metadata": {},
     "output_type": "execute_result"
    }
   ],
   "source": [
    "time.gmtime(t)"
   ]
  },
  {
   "cell_type": "code",
   "execution_count": 42,
   "id": "6cfb3e35",
   "metadata": {},
   "outputs": [],
   "source": [
    "t2 = time.mktime(time.gmtime(t))"
   ]
  },
  {
   "cell_type": "code",
   "execution_count": 43,
   "id": "9068773a",
   "metadata": {},
   "outputs": [
    {
     "data": {
      "text/plain": [
       "1657295997.0"
      ]
     },
     "execution_count": 43,
     "metadata": {},
     "output_type": "execute_result"
    }
   ],
   "source": [
    "t2"
   ]
  },
  {
   "cell_type": "markdown",
   "id": "6378861d",
   "metadata": {},
   "source": [
    "mktime() converts a 9-tuple to a floating point timestamp (seconds since unix epoch)"
   ]
  },
  {
   "cell_type": "markdown",
   "id": "b2b5c0f9",
   "metadata": {},
   "source": [
    "# datetime module - datetime class"
   ]
  },
  {
   "cell_type": "code",
   "execution_count": 44,
   "id": "345fb70c",
   "metadata": {},
   "outputs": [],
   "source": [
    "from datetime import datetime"
   ]
  },
  {
   "cell_type": "code",
   "execution_count": 45,
   "id": "dee6e53f",
   "metadata": {},
   "outputs": [],
   "source": [
    "dt = datetime(1967,12,27,13,34,56,7890)"
   ]
  },
  {
   "cell_type": "code",
   "execution_count": 49,
   "id": "8ba41bbf",
   "metadata": {},
   "outputs": [
    {
     "name": "stdout",
     "output_type": "stream",
     "text": [
      "1967-12-27\n",
      "13:34:56.007890\n"
     ]
    }
   ],
   "source": [
    "print(dt.date())\n",
    "print(dt.time())"
   ]
  },
  {
   "cell_type": "markdown",
   "id": "433311d1",
   "metadata": {},
   "source": [
    "### getting current date and time"
   ]
  },
  {
   "cell_type": "code",
   "execution_count": 50,
   "id": "634803ff",
   "metadata": {},
   "outputs": [
    {
     "name": "stdout",
     "output_type": "stream",
     "text": [
      "today: 2022-07-09 16:14:14.152693\n",
      "now: 2022-07-09 16:14:14.152937\n",
      "utcnow: 2022-07-09 04:14:14.153083\n"
     ]
    }
   ],
   "source": [
    "print(\"today:\", datetime.today())\n",
    "print(\"now:\", datetime.now())\n",
    "print(\"utcnow:\", datetime.utcnow())"
   ]
  },
  {
   "cell_type": "code",
   "execution_count": 55,
   "id": "f56f5d68",
   "metadata": {},
   "outputs": [
    {
     "name": "stdout",
     "output_type": "stream",
     "text": [
      "current timestamp: 1657340241.461212\n"
     ]
    }
   ],
   "source": [
    "dt = datetime.now()\n",
    "print(\"current timestamp:\",dt.timestamp())"
   ]
  },
  {
   "cell_type": "markdown",
   "id": "b5a7e95c",
   "metadata": {},
   "source": [
    "# formatting"
   ]
  },
  {
   "cell_type": "markdown",
   "id": "6671bbc9",
   "metadata": {},
   "source": [
    "strftime formats the date, time"
   ]
  },
  {
   "cell_type": "code",
   "execution_count": 56,
   "id": "8676e6bc",
   "metadata": {},
   "outputs": [
    {
     "name": "stdout",
     "output_type": "stream",
     "text": [
      "2020/01/04\n"
     ]
    }
   ],
   "source": [
    "d = date(2020, 1, 4)\n",
    "print(d.strftime('%Y/%m/%d'))"
   ]
  },
  {
   "cell_type": "code",
   "execution_count": 63,
   "id": "040def5a",
   "metadata": {},
   "outputs": [
    {
     "name": "stdout",
     "output_type": "stream",
     "text": [
      "14:53:00\n",
      "20/November/04 14:53:00\n"
     ]
    }
   ],
   "source": [
    "from datetime import time\n",
    "t = time(14, 53)\n",
    "print(t.strftime(\"%H:%M:%S\"))\n",
    "\n",
    "dt = datetime(2020, 11, 4, 14, 53)\n",
    "print(dt.strftime(\"%y/%B/%d %H:%M:%S\"))"
   ]
  },
  {
   "cell_type": "markdown",
   "id": "83cd6d6b",
   "metadata": {},
   "source": [
    "strptime parses the time using the format given"
   ]
  },
  {
   "cell_type": "code",
   "execution_count": 66,
   "id": "a814bac6",
   "metadata": {},
   "outputs": [
    {
     "name": "stdout",
     "output_type": "stream",
     "text": [
      "2019-11-04 14:53:00\n"
     ]
    }
   ],
   "source": [
    "print(datetime.strptime(\"2019/11/04 14:53:00\", \"%Y/%m/%d %H:%M:%S\"))"
   ]
  },
  {
   "cell_type": "markdown",
   "id": "2d0e89b1",
   "metadata": {},
   "source": [
    "generates a ValueError if string doesn't match format..."
   ]
  },
  {
   "cell_type": "code",
   "execution_count": 67,
   "id": "6df23b9c",
   "metadata": {},
   "outputs": [
    {
     "ename": "ValueError",
     "evalue": "time data '2019/11/04 14:53:00' does not match format '%Y-%m-%d %H:%M:%S'",
     "output_type": "error",
     "traceback": [
      "\u001b[0;31m---------------------------------------------------------------------------\u001b[0m",
      "\u001b[0;31mValueError\u001b[0m                                Traceback (most recent call last)",
      "Input \u001b[0;32mIn [67]\u001b[0m, in \u001b[0;36m<cell line: 1>\u001b[0;34m()\u001b[0m\n\u001b[0;32m----> 1\u001b[0m \u001b[38;5;28mprint\u001b[39m(\u001b[43mdatetime\u001b[49m\u001b[38;5;241;43m.\u001b[39;49m\u001b[43mstrptime\u001b[49m\u001b[43m(\u001b[49m\u001b[38;5;124;43m\"\u001b[39;49m\u001b[38;5;124;43m2019/11/04 14:53:00\u001b[39;49m\u001b[38;5;124;43m\"\u001b[39;49m\u001b[43m,\u001b[49m\u001b[43m \u001b[49m\u001b[38;5;124;43m\"\u001b[39;49m\u001b[38;5;124;43m%\u001b[39;49m\u001b[38;5;124;43mY-\u001b[39;49m\u001b[38;5;124;43m%\u001b[39;49m\u001b[38;5;124;43mm-\u001b[39;49m\u001b[38;5;132;43;01m%d\u001b[39;49;00m\u001b[38;5;124;43m \u001b[39;49m\u001b[38;5;124;43m%\u001b[39;49m\u001b[38;5;124;43mH:\u001b[39;49m\u001b[38;5;124;43m%\u001b[39;49m\u001b[38;5;124;43mM:\u001b[39;49m\u001b[38;5;124;43m%\u001b[39;49m\u001b[38;5;124;43mS\u001b[39;49m\u001b[38;5;124;43m\"\u001b[39;49m\u001b[43m)\u001b[49m)\n",
      "File \u001b[0;32m/usr/lib/python3.9/_strptime.py:568\u001b[0m, in \u001b[0;36m_strptime_datetime\u001b[0;34m(cls, data_string, format)\u001b[0m\n\u001b[1;32m    565\u001b[0m \u001b[38;5;28;01mdef\u001b[39;00m \u001b[38;5;21m_strptime_datetime\u001b[39m(\u001b[38;5;28mcls\u001b[39m, data_string, \u001b[38;5;28mformat\u001b[39m\u001b[38;5;241m=\u001b[39m\u001b[38;5;124m\"\u001b[39m\u001b[38;5;132;01m%a\u001b[39;00m\u001b[38;5;124m \u001b[39m\u001b[38;5;124m%\u001b[39m\u001b[38;5;124mb \u001b[39m\u001b[38;5;132;01m%d\u001b[39;00m\u001b[38;5;124m \u001b[39m\u001b[38;5;124m%\u001b[39m\u001b[38;5;124mH:\u001b[39m\u001b[38;5;124m%\u001b[39m\u001b[38;5;124mM:\u001b[39m\u001b[38;5;124m%\u001b[39m\u001b[38;5;124mS \u001b[39m\u001b[38;5;124m%\u001b[39m\u001b[38;5;124mY\u001b[39m\u001b[38;5;124m\"\u001b[39m):\n\u001b[1;32m    566\u001b[0m     \u001b[38;5;124;03m\"\"\"Return a class cls instance based on the input string and the\u001b[39;00m\n\u001b[1;32m    567\u001b[0m \u001b[38;5;124;03m    format string.\"\"\"\u001b[39;00m\n\u001b[0;32m--> 568\u001b[0m     tt, fraction, gmtoff_fraction \u001b[38;5;241m=\u001b[39m \u001b[43m_strptime\u001b[49m\u001b[43m(\u001b[49m\u001b[43mdata_string\u001b[49m\u001b[43m,\u001b[49m\u001b[43m \u001b[49m\u001b[38;5;28;43mformat\u001b[39;49m\u001b[43m)\u001b[49m\n\u001b[1;32m    569\u001b[0m     tzname, gmtoff \u001b[38;5;241m=\u001b[39m tt[\u001b[38;5;241m-\u001b[39m\u001b[38;5;241m2\u001b[39m:]\n\u001b[1;32m    570\u001b[0m     args \u001b[38;5;241m=\u001b[39m tt[:\u001b[38;5;241m6\u001b[39m] \u001b[38;5;241m+\u001b[39m (fraction,)\n",
      "File \u001b[0;32m/usr/lib/python3.9/_strptime.py:349\u001b[0m, in \u001b[0;36m_strptime\u001b[0;34m(data_string, format)\u001b[0m\n\u001b[1;32m    347\u001b[0m found \u001b[38;5;241m=\u001b[39m format_regex\u001b[38;5;241m.\u001b[39mmatch(data_string)\n\u001b[1;32m    348\u001b[0m \u001b[38;5;28;01mif\u001b[39;00m \u001b[38;5;129;01mnot\u001b[39;00m found:\n\u001b[0;32m--> 349\u001b[0m     \u001b[38;5;28;01mraise\u001b[39;00m \u001b[38;5;167;01mValueError\u001b[39;00m(\u001b[38;5;124m\"\u001b[39m\u001b[38;5;124mtime data \u001b[39m\u001b[38;5;132;01m%r\u001b[39;00m\u001b[38;5;124m does not match format \u001b[39m\u001b[38;5;132;01m%r\u001b[39;00m\u001b[38;5;124m\"\u001b[39m \u001b[38;5;241m%\u001b[39m\n\u001b[1;32m    350\u001b[0m                      (data_string, \u001b[38;5;28mformat\u001b[39m))\n\u001b[1;32m    351\u001b[0m \u001b[38;5;28;01mif\u001b[39;00m \u001b[38;5;28mlen\u001b[39m(data_string) \u001b[38;5;241m!=\u001b[39m found\u001b[38;5;241m.\u001b[39mend():\n\u001b[1;32m    352\u001b[0m     \u001b[38;5;28;01mraise\u001b[39;00m \u001b[38;5;167;01mValueError\u001b[39;00m(\u001b[38;5;124m\"\u001b[39m\u001b[38;5;124munconverted data remains: \u001b[39m\u001b[38;5;132;01m%s\u001b[39;00m\u001b[38;5;124m\"\u001b[39m \u001b[38;5;241m%\u001b[39m\n\u001b[1;32m    353\u001b[0m                       data_string[found\u001b[38;5;241m.\u001b[39mend():])\n",
      "\u001b[0;31mValueError\u001b[0m: time data '2019/11/04 14:53:00' does not match format '%Y-%m-%d %H:%M:%S'"
     ]
    }
   ],
   "source": [
    "print(datetime.strptime(\"2019/11/04 14:53:00\", \"%Y-%m-%d %H:%M:%S\"))"
   ]
  },
  {
   "cell_type": "markdown",
   "id": "24a74903",
   "metadata": {},
   "source": [
    "# timedelta"
   ]
  },
  {
   "cell_type": "code",
   "execution_count": 68,
   "id": "a225c527",
   "metadata": {},
   "outputs": [],
   "source": [
    "from datetime import timedelta"
   ]
  },
  {
   "cell_type": "code",
   "execution_count": 69,
   "id": "529b7126",
   "metadata": {},
   "outputs": [
    {
     "name": "stdout",
     "output_type": "stream",
     "text": [
      "16 days, 3:00:00\n"
     ]
    }
   ],
   "source": [
    "delta = timedelta(weeks=2, days=2, hours=3)\n",
    "print(delta)"
   ]
  },
  {
   "cell_type": "markdown",
   "id": "9bc2d59b",
   "metadata": {},
   "source": [
    "timedeltas can do arithmetic"
   ]
  },
  {
   "cell_type": "code",
   "execution_count": 70,
   "id": "26567cea",
   "metadata": {},
   "outputs": [
    {
     "name": "stdout",
     "output_type": "stream",
     "text": [
      "16 days, 2:00:00\n",
      "32 days, 4:00:00\n",
      "2019-11-05\n",
      "2019-11-05 18:53:00\n"
     ]
    }
   ],
   "source": [
    "delta = timedelta(weeks=2, days=2, hours=2)\n",
    "print(delta)\n",
    "\n",
    "delta2 = delta * 2\n",
    "print(delta2)\n",
    "\n",
    "d = date(2019, 10, 4) + delta2\n",
    "print(d)\n",
    "\n",
    "dt = datetime(2019, 10, 4, 14, 53) + delta2\n",
    "print(dt)\n"
   ]
  },
  {
   "cell_type": "code",
   "execution_count": null,
   "id": "35912c0c",
   "metadata": {},
   "outputs": [],
   "source": []
  }
 ],
 "metadata": {
  "kernelspec": {
   "display_name": "Python 3 (ipykernel)",
   "language": "python",
   "name": "python3"
  },
  "language_info": {
   "codemirror_mode": {
    "name": "ipython",
    "version": 3
   },
   "file_extension": ".py",
   "mimetype": "text/x-python",
   "name": "python",
   "nbconvert_exporter": "python",
   "pygments_lexer": "ipython3",
   "version": "3.9.2"
  }
 },
 "nbformat": 4,
 "nbformat_minor": 5
}
