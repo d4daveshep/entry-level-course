{
 "cells": [
  {
   "cell_type": "markdown",
   "id": "5ea5ab6c",
   "metadata": {},
   "source": [
    "# Formatting strings #"
   ]
  },
  {
   "cell_type": "markdown",
   "id": "41b59c99",
   "metadata": {},
   "source": [
    "## String.format() method ##"
   ]
  },
  {
   "cell_type": "code",
   "execution_count": 2,
   "id": "2b7c4ea2",
   "metadata": {},
   "outputs": [
    {
     "data": {
      "text/plain": [
       "<function str.format>"
      ]
     },
     "execution_count": 2,
     "metadata": {},
     "output_type": "execute_result"
    }
   ],
   "source": [
    "\"Hello\".format"
   ]
  },
  {
   "cell_type": "code",
   "execution_count": 4,
   "id": "a8691fa9",
   "metadata": {
    "scrolled": true
   },
   "outputs": [
    {
     "data": {
      "text/plain": [
       "'Hello, David'"
      ]
     },
     "execution_count": 4,
     "metadata": {},
     "output_type": "execute_result"
    }
   ],
   "source": [
    "\"Hello, {}\".format(\"David\")"
   ]
  },
  {
   "cell_type": "code",
   "execution_count": 5,
   "id": "9bc2f3a9",
   "metadata": {},
   "outputs": [
    {
     "data": {
      "text/plain": [
       "'Hi Hello How are you'"
      ]
     },
     "execution_count": 5,
     "metadata": {},
     "output_type": "execute_result"
    }
   ],
   "source": [
    "\"{} {} {}\".format(\"Hi\", \"Hello\", \"How are you\")"
   ]
  },
  {
   "cell_type": "code",
   "execution_count": 7,
   "id": "10126989",
   "metadata": {},
   "outputs": [
    {
     "data": {
      "text/plain": [
       "'How are you Hi Hello'"
      ]
     },
     "execution_count": 7,
     "metadata": {},
     "output_type": "execute_result"
    }
   ],
   "source": [
    "\"{2} {0} {1}\".format(\"Hi\", \"Hello\", \"How are you\")"
   ]
  },
  {
   "cell_type": "code",
   "execution_count": 9,
   "id": "e59e71c5",
   "metadata": {},
   "outputs": [
    {
     "data": {
      "text/plain": [
       "'A b C'"
      ]
     },
     "execution_count": 9,
     "metadata": {},
     "output_type": "execute_result"
    }
   ],
   "source": [
    "\"{a} {b} {c}\".format(a=\"A\", b=\"b\", c=\"C\")"
   ]
  },
  {
   "cell_type": "code",
   "execution_count": 11,
   "id": "3b40c341",
   "metadata": {},
   "outputs": [
    {
     "data": {
      "text/plain": [
       "'User not found for username: David'"
      ]
     },
     "execution_count": 11,
     "metadata": {},
     "output_type": "execute_result"
    }
   ],
   "source": [
    "\"User not found for username: {username}\".format(username=\"David\")"
   ]
  },
  {
   "cell_type": "code",
   "execution_count": 12,
   "id": "7e5d95cf",
   "metadata": {},
   "outputs": [
    {
     "ename": "ValueError",
     "evalue": "cannot switch from manual field specification to automatic field numbering",
     "output_type": "error",
     "traceback": [
      "\u001b[0;31m---------------------------------------------------------------------------\u001b[0m",
      "\u001b[0;31mValueError\u001b[0m                                Traceback (most recent call last)",
      "Input \u001b[0;32mIn [12]\u001b[0m, in \u001b[0;36m<cell line: 1>\u001b[0;34m()\u001b[0m\n\u001b[0;32m----> 1\u001b[0m \u001b[38;5;124;43m\"\u001b[39;49m\u001b[38;5;132;43;01m{2}\u001b[39;49;00m\u001b[38;5;124;43m \u001b[39;49m\u001b[38;5;132;43;01m{0}\u001b[39;49;00m\u001b[38;5;124;43m \u001b[39;49m\u001b[38;5;132;43;01m{}\u001b[39;49;00m\u001b[38;5;124;43m\"\u001b[39;49m\u001b[38;5;241;43m.\u001b[39;49m\u001b[43mformat\u001b[49m\u001b[43m(\u001b[49m\u001b[38;5;124;43m\"\u001b[39;49m\u001b[38;5;124;43mHi\u001b[39;49m\u001b[38;5;124;43m\"\u001b[39;49m\u001b[43m,\u001b[49m\u001b[43m \u001b[49m\u001b[38;5;124;43m\"\u001b[39;49m\u001b[38;5;124;43mHello\u001b[39;49m\u001b[38;5;124;43m\"\u001b[39;49m\u001b[43m,\u001b[49m\u001b[43m \u001b[49m\u001b[38;5;124;43m\"\u001b[39;49m\u001b[38;5;124;43mHow are you\u001b[39;49m\u001b[38;5;124;43m\"\u001b[39;49m\u001b[43m)\u001b[49m\n",
      "\u001b[0;31mValueError\u001b[0m: cannot switch from manual field specification to automatic field numbering"
     ]
    }
   ],
   "source": [
    "\"{2} {0} {}\".format(\"Hi\", \"Hello\", \"How are you\")"
   ]
  },
  {
   "cell_type": "code",
   "execution_count": 16,
   "id": "442dc73a",
   "metadata": {},
   "outputs": [
    {
     "data": {
      "text/plain": [
       "'Hello Hi How are you'"
      ]
     },
     "execution_count": 16,
     "metadata": {},
     "output_type": "execute_result"
    }
   ],
   "source": [
    "\"{1} {0} {last}\".format(\"Hi\", \"Hello\", last=\"How are you\")"
   ]
  },
  {
   "cell_type": "code",
   "execution_count": 18,
   "id": "53eca95e",
   "metadata": {},
   "outputs": [
    {
     "data": {
      "text/plain": [
       "'{David}'"
      ]
     },
     "execution_count": 18,
     "metadata": {},
     "output_type": "execute_result"
    }
   ],
   "source": [
    "\"{{{}}}\".format(\"David\")"
   ]
  },
  {
   "cell_type": "markdown",
   "id": "97dee7c9",
   "metadata": {},
   "source": [
    "### Format syntax is... ###\n",
    "{[\\<name>][!\\<conversion>][:\\<format_spec>]}\n"
   ]
  },
  {
   "cell_type": "markdown",
   "id": "0ff6955c",
   "metadata": {},
   "source": [
    "### Conversion ### \\\n",
    "s for str() r for repl(), a for ascii() "
   ]
  },
  {
   "cell_type": "code",
   "execution_count": 20,
   "id": "bb5ae3a8",
   "metadata": {},
   "outputs": [],
   "source": [
    "example_dict = {\n",
    "    \"name\": \"David\",\n",
    "    \"age\": \"old\",\n",
    "    \"height\": \"average height\",\n",
    "}"
   ]
  },
  {
   "cell_type": "code",
   "execution_count": 22,
   "id": "85c97560",
   "metadata": {},
   "outputs": [
    {
     "data": {
      "text/plain": [
       "'David'"
      ]
     },
     "execution_count": 22,
     "metadata": {},
     "output_type": "execute_result"
    }
   ],
   "source": [
    "\"{0[name]}\".format(example_dict)"
   ]
  },
  {
   "cell_type": "code",
   "execution_count": 24,
   "id": "f8373254",
   "metadata": {},
   "outputs": [
    {
     "data": {
      "text/plain": [
       "'David'"
      ]
     },
     "execution_count": 24,
     "metadata": {},
     "output_type": "execute_result"
    }
   ],
   "source": [
    "\"{d[name]}\".format(d=example_dict)"
   ]
  },
  {
   "cell_type": "code",
   "execution_count": 26,
   "id": "543be009",
   "metadata": {},
   "outputs": [],
   "source": [
    "class Container():\n",
    "    def __init__(self, x, y):\n",
    "        self.x = x\n",
    "        self.y = y\n",
    "    def __repr__(self):\n",
    "        return \"Repr of Container\"\n",
    "    def __str__(self):\n",
    "        return \"Str of Container\"\n",
    "    "
   ]
  },
  {
   "cell_type": "code",
   "execution_count": 30,
   "id": "0f1a422b",
   "metadata": {},
   "outputs": [
    {
     "data": {
      "text/plain": [
       "'Str of Container'"
      ]
     },
     "execution_count": 30,
     "metadata": {},
     "output_type": "execute_result"
    }
   ],
   "source": [
    "c = Container(5, 6)\n",
    "\"{}\".format(c)"
   ]
  },
  {
   "cell_type": "code",
   "execution_count": 32,
   "id": "e095dcba",
   "metadata": {},
   "outputs": [
    {
     "data": {
      "text/plain": [
       "'5'"
      ]
     },
     "execution_count": 32,
     "metadata": {},
     "output_type": "execute_result"
    }
   ],
   "source": [
    "\"{0.x}\".format(c)"
   ]
  },
  {
   "cell_type": "code",
   "execution_count": 34,
   "id": "7759c088",
   "metadata": {},
   "outputs": [
    {
     "data": {
      "text/plain": [
       "'6'"
      ]
     },
     "execution_count": 34,
     "metadata": {},
     "output_type": "execute_result"
    }
   ],
   "source": [
    "\"{0.y}\".format(c)"
   ]
  },
  {
   "cell_type": "code",
   "execution_count": 36,
   "id": "09ad95e7",
   "metadata": {},
   "outputs": [
    {
     "data": {
      "text/plain": [
       "'Repr of Container'"
      ]
     },
     "execution_count": 36,
     "metadata": {},
     "output_type": "execute_result"
    }
   ],
   "source": [
    "\"{!r}\".format(c)"
   ]
  },
  {
   "cell_type": "code",
   "execution_count": 38,
   "id": "9bb14abc",
   "metadata": {},
   "outputs": [
    {
     "data": {
      "text/plain": [
       "'Str of Container'"
      ]
     },
     "execution_count": 38,
     "metadata": {},
     "output_type": "execute_result"
    }
   ],
   "source": [
    "\"{!s}\".format(c)"
   ]
  },
  {
   "cell_type": "code",
   "execution_count": 40,
   "id": "ec8eefdf",
   "metadata": {},
   "outputs": [
    {
     "data": {
      "text/plain": [
       "'Repr of Container'"
      ]
     },
     "execution_count": 40,
     "metadata": {},
     "output_type": "execute_result"
    }
   ],
   "source": [
    "\"{!a}\".format(c)"
   ]
  },
  {
   "cell_type": "code",
   "execution_count": 42,
   "id": "ea95327f",
   "metadata": {},
   "outputs": [
    {
     "data": {
      "text/plain": [
       "'5'"
      ]
     },
     "execution_count": 42,
     "metadata": {},
     "output_type": "execute_result"
    }
   ],
   "source": [
    "\"{0.x!r}\".format(c)"
   ]
  },
  {
   "cell_type": "markdown",
   "id": "3b05bec6",
   "metadata": {},
   "source": [
    "### Format_spec ###"
   ]
  },
  {
   "cell_type": "code",
   "execution_count": 45,
   "id": "eeabc578",
   "metadata": {},
   "outputs": [],
   "source": [
    "nums = [1.25, 3, 3.439, 4.09324, 4.1]"
   ]
  },
  {
   "cell_type": "code",
   "execution_count": 48,
   "id": "b600fcf0",
   "metadata": {},
   "outputs": [
    {
     "name": "stdout",
     "output_type": "stream",
     "text": [
      "1.25\n",
      "3.00\n",
      "3.44\n",
      "4.09\n",
      "4.10\n"
     ]
    }
   ],
   "source": [
    "for num in nums:\n",
    "    print(\"{:.2f}\".format(num))  # print to 2 dp"
   ]
  },
  {
   "cell_type": "code",
   "execution_count": 55,
   "id": "78b57977",
   "metadata": {},
   "outputs": [],
   "source": [
    "nums = [1, 3000, 4234, 4315127, 34893103]"
   ]
  },
  {
   "cell_type": "code",
   "execution_count": 57,
   "id": "cd0c1457",
   "metadata": {},
   "outputs": [
    {
     "name": "stdout",
     "output_type": "stream",
     "text": [
      "00000001\n",
      "00003000\n",
      "00004234\n",
      "04315127\n",
      "34893103\n"
     ]
    }
   ],
   "source": [
    "for num in nums:\n",
    "    print(\"{:08}\".format(num))  # pad up to 8 chars with 0"
   ]
  },
  {
   "cell_type": "code",
   "execution_count": 59,
   "id": "8bdd2ae2",
   "metadata": {},
   "outputs": [
    {
     "name": "stdout",
     "output_type": "stream",
     "text": [
      "1~~~~~~~\n",
      "3000~~~~\n",
      "4234~~~~\n",
      "4315127~\n",
      "34893103\n"
     ]
    }
   ],
   "source": [
    "for num in nums:\n",
    "    print(\"{:~<8}\".format(num))  # pad with ~ up to 8 chars left justified"
   ]
  },
  {
   "cell_type": "code",
   "execution_count": 61,
   "id": "9fce22d6",
   "metadata": {},
   "outputs": [
    {
     "name": "stdout",
     "output_type": "stream",
     "text": [
      "~~~1~~~~\n",
      "~~3000~~\n",
      "~~4234~~\n",
      "4315127~\n",
      "34893103\n"
     ]
    }
   ],
   "source": [
    "for num in nums:\n",
    "    print(\"{:~^8}\".format(num))  # pad with ~ up to 8 chars centreed"
   ]
  },
  {
   "cell_type": "markdown",
   "id": "ac1fd735",
   "metadata": {},
   "source": [
    "## f-Strings are an awesome shorthand for .format() ##"
   ]
  },
  {
   "cell_type": "code",
   "execution_count": 64,
   "id": "98bfbdd3",
   "metadata": {},
   "outputs": [
    {
     "data": {
      "text/plain": [
       "'Hello, my name is David'"
      ]
     },
     "execution_count": 64,
     "metadata": {},
     "output_type": "execute_result"
    }
   ],
   "source": [
    "name = \"David\"\n",
    "f\"Hello, my name is {name}\""
   ]
  },
  {
   "cell_type": "code",
   "execution_count": 66,
   "id": "14271d1f",
   "metadata": {},
   "outputs": [
    {
     "data": {
      "text/plain": [
       "'The value of 2 X 3 = 6'"
      ]
     },
     "execution_count": 66,
     "metadata": {},
     "output_type": "execute_result"
    }
   ],
   "source": [
    "f\"The value of 2 X 3 = {2 * 3}\""
   ]
  },
  {
   "cell_type": "code",
   "execution_count": 69,
   "id": "5adf40ed",
   "metadata": {},
   "outputs": [
    {
     "name": "stdout",
     "output_type": "stream",
     "text": [
      "2.00\n",
      "3.23\n",
      "54.23\n",
      "4353.00\n"
     ]
    }
   ],
   "source": [
    "nums = [2, 3.234, 54.2313, 4353]\n",
    "for num in nums:\n",
    "    print(f\"{num:.2f}\")"
   ]
  },
  {
   "cell_type": "code",
   "execution_count": 71,
   "id": "c749ae01",
   "metadata": {},
   "outputs": [
    {
     "name": "stdout",
     "output_type": "stream",
     "text": [
      "~~~~~~~~2\n",
      "~~~~3.234\n",
      "~~54.2313\n",
      "~~~~~4353\n"
     ]
    }
   ],
   "source": [
    "for num in nums:\n",
    "    print(f\"{num:~>9}\")"
   ]
  },
  {
   "cell_type": "code",
   "execution_count": 73,
   "id": "c931e5c9",
   "metadata": {},
   "outputs": [
    {
     "name": "stdout",
     "output_type": "stream",
     "text": [
      "David\n",
      "VP Engineering\n"
     ]
    }
   ],
   "source": [
    "d = {\"name\": \"David\", \"title\": \"VP Engineering\"}\n",
    "for key in d:\n",
    "    print(f\"{d[key]}\")"
   ]
  },
  {
   "cell_type": "code",
   "execution_count": 74,
   "id": "1c030036",
   "metadata": {},
   "outputs": [
    {
     "name": "stdout",
     "output_type": "stream",
     "text": [
      "name -> David\n",
      "title -> VP Engineering\n"
     ]
    }
   ],
   "source": [
    "for key in d:\n",
    "    print(f\"{key} -> {d[key]}\")"
   ]
  }
 ],
 "metadata": {
  "kernelspec": {
   "display_name": "Python 3 (ipykernel)",
   "language": "python",
   "name": "python3"
  },
  "language_info": {
   "codemirror_mode": {
    "name": "ipython",
    "version": 3
   },
   "file_extension": ".py",
   "mimetype": "text/x-python",
   "name": "python",
   "nbconvert_exporter": "python",
   "pygments_lexer": "ipython3",
   "version": "3.9.2"
  }
 },
 "nbformat": 4,
 "nbformat_minor": 5
}
