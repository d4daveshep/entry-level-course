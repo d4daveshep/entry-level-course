{
 "cells": [
  {
   "cell_type": "code",
   "execution_count": null,
   "id": "3ca81eb2",
   "metadata": {},
   "outputs": [],
   "source": [
    "import os"
   ]
  },
  {
   "cell_type": "code",
   "execution_count": null,
   "id": "ac347c7b",
   "metadata": {},
   "outputs": [],
   "source": [
    "os.mkdir(\"test_directory\")"
   ]
  },
  {
   "cell_type": "code",
   "execution_count": null,
   "id": "7033c57e",
   "metadata": {},
   "outputs": [],
   "source": [
    "os.listdir()"
   ]
  },
  {
   "cell_type": "code",
   "execution_count": null,
   "id": "e4ef7e0b",
   "metadata": {},
   "outputs": [],
   "source": []
  },
  {
   "cell_type": "code",
   "execution_count": null,
   "id": "1840ab2c",
   "metadata": {},
   "outputs": [],
   "source": []
  }
 ],
 "metadata": {
  "kernelspec": {
   "display_name": "Python 3 (ipykernel)",
   "language": "python",
   "name": "python3"
  }
 },
 "nbformat": 4,
 "nbformat_minor": 5
}
