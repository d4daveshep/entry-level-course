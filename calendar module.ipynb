{
 "cells": [
  {
   "cell_type": "code",
   "execution_count": 2,
   "id": "ef6a76fc",
   "metadata": {},
   "outputs": [],
   "source": [
    "import calendar"
   ]
  },
  {
   "cell_type": "code",
   "execution_count": 5,
   "id": "26906c18",
   "metadata": {},
   "outputs": [
    {
     "name": "stdout",
     "output_type": "stream",
     "text": [
      "                                  2022\n",
      "\n",
      "      January                   February                   March\n",
      "Mo Tu We Th Fr Sa Su      Mo Tu We Th Fr Sa Su      Mo Tu We Th Fr Sa Su\n",
      "                1  2          1  2  3  4  5  6          1  2  3  4  5  6\n",
      " 3  4  5  6  7  8  9       7  8  9 10 11 12 13       7  8  9 10 11 12 13\n",
      "10 11 12 13 14 15 16      14 15 16 17 18 19 20      14 15 16 17 18 19 20\n",
      "17 18 19 20 21 22 23      21 22 23 24 25 26 27      21 22 23 24 25 26 27\n",
      "24 25 26 27 28 29 30      28                        28 29 30 31\n",
      "31\n",
      "\n",
      "       April                      May                       June\n",
      "Mo Tu We Th Fr Sa Su      Mo Tu We Th Fr Sa Su      Mo Tu We Th Fr Sa Su\n",
      "             1  2  3                         1             1  2  3  4  5\n",
      " 4  5  6  7  8  9 10       2  3  4  5  6  7  8       6  7  8  9 10 11 12\n",
      "11 12 13 14 15 16 17       9 10 11 12 13 14 15      13 14 15 16 17 18 19\n",
      "18 19 20 21 22 23 24      16 17 18 19 20 21 22      20 21 22 23 24 25 26\n",
      "25 26 27 28 29 30         23 24 25 26 27 28 29      27 28 29 30\n",
      "                          30 31\n",
      "\n",
      "        July                     August                  September\n",
      "Mo Tu We Th Fr Sa Su      Mo Tu We Th Fr Sa Su      Mo Tu We Th Fr Sa Su\n",
      "             1  2  3       1  2  3  4  5  6  7                1  2  3  4\n",
      " 4  5  6  7  8  9 10       8  9 10 11 12 13 14       5  6  7  8  9 10 11\n",
      "11 12 13 14 15 16 17      15 16 17 18 19 20 21      12 13 14 15 16 17 18\n",
      "18 19 20 21 22 23 24      22 23 24 25 26 27 28      19 20 21 22 23 24 25\n",
      "25 26 27 28 29 30 31      29 30 31                  26 27 28 29 30\n",
      "\n",
      "      October                   November                  December\n",
      "Mo Tu We Th Fr Sa Su      Mo Tu We Th Fr Sa Su      Mo Tu We Th Fr Sa Su\n",
      "                1  2          1  2  3  4  5  6                1  2  3  4\n",
      " 3  4  5  6  7  8  9       7  8  9 10 11 12 13       5  6  7  8  9 10 11\n",
      "10 11 12 13 14 15 16      14 15 16 17 18 19 20      12 13 14 15 16 17 18\n",
      "17 18 19 20 21 22 23      21 22 23 24 25 26 27      19 20 21 22 23 24 25\n",
      "24 25 26 27 28 29 30      28 29 30                  26 27 28 29 30 31\n",
      "31\n",
      "\n"
     ]
    }
   ],
   "source": [
    "print(calendar.calendar(2022))"
   ]
  },
  {
   "cell_type": "code",
   "execution_count": 7,
   "id": "62f3d44f",
   "metadata": {},
   "outputs": [
    {
     "name": "stdout",
     "output_type": "stream",
     "text": [
      "     July 2022\n",
      "Mo Tu We Th Fr Sa Su\n",
      "             1  2  3\n",
      " 4  5  6  7  8  9 10\n",
      "11 12 13 14 15 16 17\n",
      "18 19 20 21 22 23 24\n",
      "25 26 27 28 29 30 31\n",
      "\n"
     ]
    }
   ],
   "source": [
    "print(calendar.month(2022,7))"
   ]
  },
  {
   "cell_type": "code",
   "execution_count": 8,
   "id": "5fa4b4a3",
   "metadata": {},
   "outputs": [
    {
     "name": "stdout",
     "output_type": "stream",
     "text": [
      "6\n"
     ]
    }
   ],
   "source": [
    "print(calendar.weekday(2022,7,10))"
   ]
  },
  {
   "cell_type": "code",
   "execution_count": 12,
   "id": "7083995a",
   "metadata": {},
   "outputs": [
    {
     "data": {
      "text/plain": [
       "False"
      ]
     },
     "execution_count": 12,
     "metadata": {},
     "output_type": "execute_result"
    }
   ],
   "source": [
    "calendar.isleap(2022)"
   ]
  },
  {
   "cell_type": "code",
   "execution_count": 13,
   "id": "f533fcb8",
   "metadata": {},
   "outputs": [
    {
     "data": {
      "text/plain": [
       "True"
      ]
     },
     "execution_count": 13,
     "metadata": {},
     "output_type": "execute_result"
    }
   ],
   "source": [
    "calendar.isleap(2020)"
   ]
  },
  {
   "cell_type": "code",
   "execution_count": 14,
   "id": "e528c2d1",
   "metadata": {},
   "outputs": [
    {
     "name": "stdout",
     "output_type": "stream",
     "text": [
      "3\n"
     ]
    }
   ],
   "source": [
    "print(calendar.leapdays(2010, 2021))  # Up to but not including 2021."
   ]
  },
  {
   "cell_type": "code",
   "execution_count": 18,
   "id": "0ccc9f0b",
   "metadata": {},
   "outputs": [
    {
     "name": "stdout",
     "output_type": "stream",
     "text": [
      "0 1 2 3 4 5 6 "
     ]
    }
   ],
   "source": [
    "cal = calendar.Calendar(calendar.MONDAY)\n",
    "for weekday in cal.iterweekdays():\n",
    "    print(weekday, end=\" \")"
   ]
  },
  {
   "cell_type": "code",
   "execution_count": 19,
   "id": "69615d99",
   "metadata": {},
   "outputs": [
    {
     "name": "stdout",
     "output_type": "stream",
     "text": [
      "2022-06-27 2022-06-28 2022-06-29 2022-06-30 2022-07-01 2022-07-02 2022-07-03 2022-07-04 2022-07-05 2022-07-06 2022-07-07 2022-07-08 2022-07-09 2022-07-10 2022-07-11 2022-07-12 2022-07-13 2022-07-14 2022-07-15 2022-07-16 2022-07-17 2022-07-18 2022-07-19 2022-07-20 2022-07-21 2022-07-22 2022-07-23 2022-07-24 2022-07-25 2022-07-26 2022-07-27 2022-07-28 2022-07-29 2022-07-30 2022-07-31 "
     ]
    }
   ],
   "source": [
    "for date in cal.itermonthdates(2022,7):\n",
    "    print(date, end=\" \")"
   ]
  },
  {
   "cell_type": "code",
   "execution_count": 20,
   "id": "068469c5",
   "metadata": {},
   "outputs": [
    {
     "name": "stdout",
     "output_type": "stream",
     "text": [
      "0 0 0 0 1 2 3 4 5 6 7 8 9 10 11 12 13 14 15 16 17 18 19 20 21 22 23 24 25 26 27 28 29 30 31 "
     ]
    }
   ],
   "source": [
    "for day in cal.itermonthdays(2022,7):\n",
    "    print(day, end=\" \")"
   ]
  },
  {
   "cell_type": "code",
   "execution_count": 22,
   "id": "7b746d50",
   "metadata": {},
   "outputs": [
    {
     "name": "stdout",
     "output_type": "stream",
     "text": [
      "(0, 0) (0, 1) (0, 2) (0, 3) (1, 4) (2, 5) (3, 6) (4, 0) (5, 1) (6, 2) (7, 3) (8, 4) (9, 5) (10, 6) (11, 0) (12, 1) (13, 2) (14, 3) (15, 4) (16, 5) (17, 6) (18, 0) (19, 1) (20, 2) (21, 3) (22, 4) (23, 5) (24, 6) (25, 0) (26, 1) (27, 2) (28, 3) (29, 4) (30, 5) (31, 6) "
     ]
    }
   ],
   "source": [
    "for date in cal.itermonthdays2(2022,7):\n",
    "    print(date, end=\" \")"
   ]
  },
  {
   "cell_type": "code",
   "execution_count": 23,
   "id": "4c653b35",
   "metadata": {},
   "outputs": [
    {
     "name": "stdout",
     "output_type": "stream",
     "text": [
      "(2022, 6, 27) (2022, 6, 28) (2022, 6, 29) (2022, 6, 30) (2022, 7, 1) (2022, 7, 2) (2022, 7, 3) (2022, 7, 4) (2022, 7, 5) (2022, 7, 6) (2022, 7, 7) (2022, 7, 8) (2022, 7, 9) (2022, 7, 10) (2022, 7, 11) (2022, 7, 12) (2022, 7, 13) (2022, 7, 14) (2022, 7, 15) (2022, 7, 16) (2022, 7, 17) (2022, 7, 18) (2022, 7, 19) (2022, 7, 20) (2022, 7, 21) (2022, 7, 22) (2022, 7, 23) (2022, 7, 24) (2022, 7, 25) (2022, 7, 26) (2022, 7, 27) (2022, 7, 28) (2022, 7, 29) (2022, 7, 30) (2022, 7, 31) "
     ]
    }
   ],
   "source": [
    "for date in cal.itermonthdays3(2022,7):\n",
    "    print(date, end=\" \")"
   ]
  },
  {
   "cell_type": "code",
   "execution_count": 24,
   "id": "c5165cfc",
   "metadata": {},
   "outputs": [
    {
     "name": "stdout",
     "output_type": "stream",
     "text": [
      "(2022, 6, 27, 0) (2022, 6, 28, 1) (2022, 6, 29, 2) (2022, 6, 30, 3) (2022, 7, 1, 4) (2022, 7, 2, 5) (2022, 7, 3, 6) (2022, 7, 4, 0) (2022, 7, 5, 1) (2022, 7, 6, 2) (2022, 7, 7, 3) (2022, 7, 8, 4) (2022, 7, 9, 5) (2022, 7, 10, 6) (2022, 7, 11, 0) (2022, 7, 12, 1) (2022, 7, 13, 2) (2022, 7, 14, 3) (2022, 7, 15, 4) (2022, 7, 16, 5) (2022, 7, 17, 6) (2022, 7, 18, 0) (2022, 7, 19, 1) (2022, 7, 20, 2) (2022, 7, 21, 3) (2022, 7, 22, 4) (2022, 7, 23, 5) (2022, 7, 24, 6) (2022, 7, 25, 0) (2022, 7, 26, 1) (2022, 7, 27, 2) (2022, 7, 28, 3) (2022, 7, 29, 4) (2022, 7, 30, 5) (2022, 7, 31, 6) "
     ]
    }
   ],
   "source": [
    "for date in cal.itermonthdays4(2022,7):\n",
    "    print(date, end=\" \")"
   ]
  },
  {
   "cell_type": "code",
   "execution_count": 26,
   "id": "53dcd2ad",
   "metadata": {},
   "outputs": [
    {
     "name": "stdout",
     "output_type": "stream",
     "text": [
      "[(0, 0), (0, 1), (0, 2), (0, 3), (1, 4), (2, 5), (3, 6)]\n",
      "[(4, 0), (5, 1), (6, 2), (7, 3), (8, 4), (9, 5), (10, 6)]\n",
      "[(11, 0), (12, 1), (13, 2), (14, 3), (15, 4), (16, 5), (17, 6)]\n",
      "[(18, 0), (19, 1), (20, 2), (21, 3), (22, 4), (23, 5), (24, 6)]\n",
      "[(25, 0), (26, 1), (27, 2), (28, 3), (29, 4), (30, 5), (31, 6)]\n"
     ]
    }
   ],
   "source": [
    "for date in cal.monthdays2calendar(2022, 7):\n",
    "    print(date)"
   ]
  },
  {
   "cell_type": "code",
   "execution_count": null,
   "id": "c71dc4ea",
   "metadata": {},
   "outputs": [],
   "source": []
  }
 ],
 "metadata": {
  "kernelspec": {
   "display_name": "Python 3 (ipykernel)",
   "language": "python",
   "name": "python3"
  },
  "language_info": {
   "codemirror_mode": {
    "name": "ipython",
    "version": 3
   },
   "file_extension": ".py",
   "mimetype": "text/x-python",
   "name": "python",
   "nbconvert_exporter": "python",
   "pygments_lexer": "ipython3",
   "version": "3.9.2"
  }
 },
 "nbformat": 4,
 "nbformat_minor": 5
}
