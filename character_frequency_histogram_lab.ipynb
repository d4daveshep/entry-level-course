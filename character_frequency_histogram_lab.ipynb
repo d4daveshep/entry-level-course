{
 "cells": [
  {
   "cell_type": "code",
   "execution_count": 3,
   "id": "3dd44145",
   "metadata": {},
   "outputs": [
    {
     "name": "stdout",
     "output_type": "stream",
     "text": [
      "can i enter some text?sure can\n"
     ]
    }
   ],
   "source": [
    "test = input(\"can i enter some text?\")"
   ]
  },
  {
   "cell_type": "code",
   "execution_count": 4,
   "id": "fce7b60f",
   "metadata": {},
   "outputs": [
    {
     "data": {
      "text/plain": [
       "'sure can'"
      ]
     },
     "execution_count": 4,
     "metadata": {},
     "output_type": "execute_result"
    }
   ],
   "source": [
    "test"
   ]
  },
  {
   "cell_type": "code",
   "execution_count": 10,
   "id": "8a197e41",
   "metadata": {},
   "outputs": [],
   "source": [
    "from collections import Counter"
   ]
  },
  {
   "cell_type": "code",
   "execution_count": 26,
   "id": "11f1b5fb",
   "metadata": {},
   "outputs": [],
   "source": [
    "counter = Counter()\n",
    "\n",
    "rf = open('tzop.txt', \"rt\")\n",
    "ch = rf.read(1)\n",
    "while ch != \"\":\n",
    "    s = str(ch)\n",
    "    if s.isalpha():\n",
    "        counter.update(s.lower())\n",
    "    ch = rf.read(1)\n",
    "rf.close()\n"
   ]
  },
  {
   "cell_type": "code",
   "execution_count": 29,
   "id": "129f957e",
   "metadata": {},
   "outputs": [
    {
     "data": {
      "text/plain": [
       "[('e', 92),\n",
       " ('t', 79),\n",
       " ('i', 53),\n",
       " ('a', 53),\n",
       " ('s', 46),\n",
       " ('o', 43),\n",
       " ('n', 42),\n",
       " ('r', 33),\n",
       " ('l', 33),\n",
       " ('h', 31),\n",
       " ('p', 22),\n",
       " ('b', 21),\n",
       " ('u', 21),\n",
       " ('y', 17),\n",
       " ('c', 17),\n",
       " ('d', 17),\n",
       " ('m', 16),\n",
       " ('f', 12),\n",
       " ('g', 11),\n",
       " ('x', 6),\n",
       " ('v', 5),\n",
       " ('w', 4),\n",
       " ('k', 2),\n",
       " ('z', 1)]"
      ]
     },
     "execution_count": 29,
     "metadata": {},
     "output_type": "execute_result"
    }
   ],
   "source": [
    "counter.most_common()"
   ]
  },
  {
   "cell_type": "code",
   "execution_count": 31,
   "id": "0f93688f",
   "metadata": {},
   "outputs": [],
   "source": [
    "dct = {}\n",
    "rf = open('tzop.txt', \"rt\")\n",
    "ch = rf.read(1)\n",
    "while ch != \"\":\n",
    "    s = str(ch)\n",
    "    if s.isalpha():\n",
    "        s = s.lower()\n",
    "        if s in dct:\n",
    "            dct[s] += 1\n",
    "        else:\n",
    "            dct[s] = 1\n",
    "    ch = rf.read(1)\n",
    "rf.close()"
   ]
  },
  {
   "cell_type": "code",
   "execution_count": 37,
   "id": "2a921c67",
   "metadata": {},
   "outputs": [],
   "source": [
    "dct = dict(sorted(dct.items(), key=lambda item: item[1], reverse=True))"
   ]
  },
  {
   "cell_type": "code",
   "execution_count": 38,
   "id": "cd0c7a1f",
   "metadata": {},
   "outputs": [
    {
     "data": {
      "text/plain": [
       "{'e': 92,\n",
       " 't': 79,\n",
       " 'i': 53,\n",
       " 'a': 53,\n",
       " 's': 46,\n",
       " 'o': 43,\n",
       " 'n': 42,\n",
       " 'r': 33,\n",
       " 'l': 33,\n",
       " 'h': 31,\n",
       " 'p': 22,\n",
       " 'b': 21,\n",
       " 'u': 21,\n",
       " 'y': 17,\n",
       " 'c': 17,\n",
       " 'd': 17,\n",
       " 'm': 16,\n",
       " 'f': 12,\n",
       " 'g': 11,\n",
       " 'x': 6,\n",
       " 'v': 5,\n",
       " 'w': 4,\n",
       " 'k': 2,\n",
       " 'z': 1}"
      ]
     },
     "execution_count": 38,
     "metadata": {},
     "output_type": "execute_result"
    }
   ],
   "source": [
    "dct"
   ]
  },
  {
   "cell_type": "code",
   "execution_count": 36,
   "id": "d89bbde8",
   "metadata": {},
   "outputs": [
    {
     "name": "stdout",
     "output_type": "stream",
     "text": [
      "Help on built-in function sorted in module builtins:\n",
      "\n",
      "sorted(iterable, /, *, key=None, reverse=False)\n",
      "    Return a new list containing all items from the iterable in ascending order.\n",
      "    \n",
      "    A custom key function can be supplied to customize the sort order, and the\n",
      "    reverse flag can be set to request the result in descending order.\n",
      "\n"
     ]
    }
   ],
   "source": [
    "help(\"sorted\")"
   ]
  },
  {
   "cell_type": "code",
   "execution_count": null,
   "id": "af9d107e",
   "metadata": {},
   "outputs": [],
   "source": []
  }
 ],
 "metadata": {
  "kernelspec": {
   "display_name": "Python 3 (ipykernel)",
   "language": "python",
   "name": "python3"
  },
  "language_info": {
   "codemirror_mode": {
    "name": "ipython",
    "version": 3
   },
   "file_extension": ".py",
   "mimetype": "text/x-python",
   "name": "python",
   "nbconvert_exporter": "python",
   "pygments_lexer": "ipython3",
   "version": "3.9.2"
  }
 },
 "nbformat": 4,
 "nbformat_minor": 5
}
